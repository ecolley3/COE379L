{
 "cells": [
  {
   "cell_type": "markdown",
   "id": "4d42fb82-6b4a-42ff-925e-b0ce7b4050d9",
   "metadata": {},
   "source": [
    "# Part 1"
   ]
  },
  {
   "cell_type": "code",
   "execution_count": 1,
   "id": "7ab9560f-2cfa-4ad5-a767-44fbe9274580",
   "metadata": {},
   "outputs": [
    {
     "name": "stderr",
     "output_type": "stream",
     "text": [
      "/tmp/ipykernel_35/2778149167.py:2: DeprecationWarning: \n",
      "Pyarrow will become a required dependency of pandas in the next major release of pandas (pandas 3.0),\n",
      "(to allow more performant data types, such as the Arrow string type, and better interoperability with other libraries)\n",
      "but was not found to be installed on your system.\n",
      "If this would cause problems for you,\n",
      "please provide us feedback at https://github.com/pandas-dev/pandas/issues/54466\n",
      "        \n",
      "  import pandas as pd\n"
     ]
    }
   ],
   "source": [
    "import numpy as np\n",
    "import pandas as pd\n",
    "auto=pd.read_csv('projectdata.csv')"
   ]
  },
  {
   "cell_type": "code",
   "execution_count": 2,
   "id": "723cbe46-9cf3-441b-ad4d-5418f6682095",
   "metadata": {},
   "outputs": [
    {
     "data": {
      "text/html": [
       "<div>\n",
       "<style scoped>\n",
       "    .dataframe tbody tr th:only-of-type {\n",
       "        vertical-align: middle;\n",
       "    }\n",
       "\n",
       "    .dataframe tbody tr th {\n",
       "        vertical-align: top;\n",
       "    }\n",
       "\n",
       "    .dataframe thead th {\n",
       "        text-align: right;\n",
       "    }\n",
       "</style>\n",
       "<table border=\"1\" class=\"dataframe\">\n",
       "  <thead>\n",
       "    <tr style=\"text-align: right;\">\n",
       "      <th></th>\n",
       "      <th>mpg</th>\n",
       "      <th>cylinders</th>\n",
       "      <th>displacement</th>\n",
       "      <th>horsepower</th>\n",
       "      <th>weight</th>\n",
       "      <th>acceleration</th>\n",
       "      <th>model_year</th>\n",
       "      <th>origin</th>\n",
       "      <th>car_name</th>\n",
       "    </tr>\n",
       "  </thead>\n",
       "  <tbody>\n",
       "    <tr>\n",
       "      <th>0</th>\n",
       "      <td>18.0</td>\n",
       "      <td>8</td>\n",
       "      <td>307.0</td>\n",
       "      <td>130</td>\n",
       "      <td>3504</td>\n",
       "      <td>12.0</td>\n",
       "      <td>70</td>\n",
       "      <td>1</td>\n",
       "      <td>chevrolet chevelle malibu</td>\n",
       "    </tr>\n",
       "    <tr>\n",
       "      <th>1</th>\n",
       "      <td>15.0</td>\n",
       "      <td>8</td>\n",
       "      <td>350.0</td>\n",
       "      <td>165</td>\n",
       "      <td>3693</td>\n",
       "      <td>11.5</td>\n",
       "      <td>70</td>\n",
       "      <td>1</td>\n",
       "      <td>buick skylark 320</td>\n",
       "    </tr>\n",
       "    <tr>\n",
       "      <th>2</th>\n",
       "      <td>18.0</td>\n",
       "      <td>8</td>\n",
       "      <td>318.0</td>\n",
       "      <td>150</td>\n",
       "      <td>3436</td>\n",
       "      <td>11.0</td>\n",
       "      <td>70</td>\n",
       "      <td>1</td>\n",
       "      <td>plymouth satellite</td>\n",
       "    </tr>\n",
       "    <tr>\n",
       "      <th>3</th>\n",
       "      <td>16.0</td>\n",
       "      <td>8</td>\n",
       "      <td>304.0</td>\n",
       "      <td>150</td>\n",
       "      <td>3433</td>\n",
       "      <td>12.0</td>\n",
       "      <td>70</td>\n",
       "      <td>1</td>\n",
       "      <td>amc rebel sst</td>\n",
       "    </tr>\n",
       "    <tr>\n",
       "      <th>4</th>\n",
       "      <td>17.0</td>\n",
       "      <td>8</td>\n",
       "      <td>302.0</td>\n",
       "      <td>140</td>\n",
       "      <td>3449</td>\n",
       "      <td>10.5</td>\n",
       "      <td>70</td>\n",
       "      <td>1</td>\n",
       "      <td>ford torino</td>\n",
       "    </tr>\n",
       "  </tbody>\n",
       "</table>\n",
       "</div>"
      ],
      "text/plain": [
       "    mpg  cylinders  displacement horsepower  weight  acceleration  model_year  \\\n",
       "0  18.0          8         307.0        130    3504          12.0          70   \n",
       "1  15.0          8         350.0        165    3693          11.5          70   \n",
       "2  18.0          8         318.0        150    3436          11.0          70   \n",
       "3  16.0          8         304.0        150    3433          12.0          70   \n",
       "4  17.0          8         302.0        140    3449          10.5          70   \n",
       "\n",
       "   origin                   car_name  \n",
       "0       1  chevrolet chevelle malibu  \n",
       "1       1          buick skylark 320  \n",
       "2       1         plymouth satellite  \n",
       "3       1              amc rebel sst  \n",
       "4       1                ford torino  "
      ]
     },
     "execution_count": 2,
     "metadata": {},
     "output_type": "execute_result"
    }
   ],
   "source": [
    "auto.head()"
   ]
  },
  {
   "cell_type": "code",
   "execution_count": 3,
   "id": "ac0b6d56-3817-4474-b98b-1b0595cd3424",
   "metadata": {},
   "outputs": [
    {
     "data": {
      "text/plain": [
       "(398, 9)"
      ]
     },
     "execution_count": 3,
     "metadata": {},
     "output_type": "execute_result"
    }
   ],
   "source": [
    "auto.shape"
   ]
  },
  {
   "cell_type": "code",
   "execution_count": 4,
   "id": "f8b76acc-4c4c-439f-86a7-b601c9450f0e",
   "metadata": {},
   "outputs": [
    {
     "name": "stdout",
     "output_type": "stream",
     "text": [
      "<class 'pandas.core.frame.DataFrame'>\n",
      "RangeIndex: 398 entries, 0 to 397\n",
      "Data columns (total 9 columns):\n",
      " #   Column        Non-Null Count  Dtype  \n",
      "---  ------        --------------  -----  \n",
      " 0   mpg           398 non-null    float64\n",
      " 1   cylinders     398 non-null    int64  \n",
      " 2   displacement  398 non-null    float64\n",
      " 3   horsepower    398 non-null    object \n",
      " 4   weight        398 non-null    int64  \n",
      " 5   acceleration  398 non-null    float64\n",
      " 6   model_year    398 non-null    int64  \n",
      " 7   origin        398 non-null    int64  \n",
      " 8   car_name      398 non-null    object \n",
      "dtypes: float64(3), int64(4), object(2)\n",
      "memory usage: 28.1+ KB\n"
     ]
    }
   ],
   "source": [
    "auto.info()\n",
    "#no data seems to be missing as all columns have the same number of rows"
   ]
  },
  {
   "cell_type": "code",
   "execution_count": 5,
   "id": "4b4cb664-8b1a-4f2c-a7a8-c581a276b27e",
   "metadata": {},
   "outputs": [],
   "source": [
    "auto.loc[auto['horsepower']=='?','horsepower']=np.nan\n",
    "auto[auto['horsepower'].astype(str).str.endswith('?')]\n",
    "auto['horsepower']=auto['horsepower'].astype(float)"
   ]
  },
  {
   "cell_type": "code",
   "execution_count": 6,
   "id": "8f4d8e2d-c951-4d9d-9e92-6eedb7510cac",
   "metadata": {},
   "outputs": [
    {
     "name": "stdout",
     "output_type": "stream",
     "text": [
      "<class 'pandas.core.frame.DataFrame'>\n",
      "RangeIndex: 398 entries, 0 to 397\n",
      "Data columns (total 9 columns):\n",
      " #   Column        Non-Null Count  Dtype  \n",
      "---  ------        --------------  -----  \n",
      " 0   mpg           398 non-null    float64\n",
      " 1   cylinders     398 non-null    int64  \n",
      " 2   displacement  398 non-null    float64\n",
      " 3   horsepower    392 non-null    float64\n",
      " 4   weight        398 non-null    int64  \n",
      " 5   acceleration  398 non-null    float64\n",
      " 6   model_year    398 non-null    int64  \n",
      " 7   origin        398 non-null    int64  \n",
      " 8   car_name      398 non-null    object \n",
      "dtypes: float64(4), int64(4), object(1)\n",
      "memory usage: 28.1+ KB\n"
     ]
    }
   ],
   "source": [
    "auto.info()"
   ]
  },
  {
   "cell_type": "code",
   "execution_count": 7,
   "id": "df0ba35a-fbb0-4a8a-9ca5-bba146b15eff",
   "metadata": {},
   "outputs": [
    {
     "name": "stderr",
     "output_type": "stream",
     "text": [
      "/tmp/ipykernel_35/1152127115.py:1: FutureWarning: A value is trying to be set on a copy of a DataFrame or Series through chained assignment using an inplace method.\n",
      "The behavior will change in pandas 3.0. This inplace method will never work because the intermediate object on which we are setting values always behaves as a copy.\n",
      "\n",
      "For example, when doing 'df[col].method(value, inplace=True)', try using 'df.method({col: value}, inplace=True)' or df[col] = df[col].method(value) instead, to perform the operation inplace on the original object.\n",
      "\n",
      "\n",
      "  auto['horsepower'].fillna(auto['horsepower'].mean(), inplace=True)\n"
     ]
    }
   ],
   "source": [
    "auto['horsepower'].fillna(auto['horsepower'].mean(), inplace=True)"
   ]
  },
  {
   "cell_type": "code",
   "execution_count": 8,
   "id": "181e5dd6-bec4-4198-803f-18731ac8a44b",
   "metadata": {},
   "outputs": [
    {
     "name": "stdout",
     "output_type": "stream",
     "text": [
      "<class 'pandas.core.frame.DataFrame'>\n",
      "RangeIndex: 398 entries, 0 to 397\n",
      "Data columns (total 7 columns):\n",
      " #   Column        Non-Null Count  Dtype  \n",
      "---  ------        --------------  -----  \n",
      " 0   mpg           398 non-null    float64\n",
      " 1   cylinders     398 non-null    int64  \n",
      " 2   displacement  398 non-null    float64\n",
      " 3   horsepower    398 non-null    float64\n",
      " 4   weight        398 non-null    int64  \n",
      " 5   acceleration  398 non-null    float64\n",
      " 6   model_year    398 non-null    int64  \n",
      "dtypes: float64(4), int64(3)\n",
      "memory usage: 21.9 KB\n"
     ]
    }
   ],
   "source": [
    "auto.drop(['origin'], axis=1, inplace=True)\n",
    "auto.drop(['car_name'], axis=1, inplace=True)\n",
    "auto.info()"
   ]
  },
  {
   "cell_type": "code",
   "execution_count": 9,
   "id": "988c7d48-61ef-4d6b-9da6-6fcacdc877fb",
   "metadata": {},
   "outputs": [
    {
     "data": {
      "text/html": [
       "<div>\n",
       "<style scoped>\n",
       "    .dataframe tbody tr th:only-of-type {\n",
       "        vertical-align: middle;\n",
       "    }\n",
       "\n",
       "    .dataframe tbody tr th {\n",
       "        vertical-align: top;\n",
       "    }\n",
       "\n",
       "    .dataframe thead th {\n",
       "        text-align: right;\n",
       "    }\n",
       "</style>\n",
       "<table border=\"1\" class=\"dataframe\">\n",
       "  <thead>\n",
       "    <tr style=\"text-align: right;\">\n",
       "      <th></th>\n",
       "      <th>mpg</th>\n",
       "      <th>cylinders</th>\n",
       "      <th>displacement</th>\n",
       "      <th>horsepower</th>\n",
       "      <th>weight</th>\n",
       "      <th>acceleration</th>\n",
       "      <th>model_year</th>\n",
       "    </tr>\n",
       "  </thead>\n",
       "  <tbody>\n",
       "    <tr>\n",
       "      <th>count</th>\n",
       "      <td>398.000000</td>\n",
       "      <td>398.000000</td>\n",
       "      <td>398.000000</td>\n",
       "      <td>398.000000</td>\n",
       "      <td>398.000000</td>\n",
       "      <td>398.000000</td>\n",
       "      <td>398.000000</td>\n",
       "    </tr>\n",
       "    <tr>\n",
       "      <th>mean</th>\n",
       "      <td>23.514573</td>\n",
       "      <td>5.454774</td>\n",
       "      <td>193.425879</td>\n",
       "      <td>104.469388</td>\n",
       "      <td>2970.424623</td>\n",
       "      <td>15.568090</td>\n",
       "      <td>76.010050</td>\n",
       "    </tr>\n",
       "    <tr>\n",
       "      <th>std</th>\n",
       "      <td>7.815984</td>\n",
       "      <td>1.701004</td>\n",
       "      <td>104.269838</td>\n",
       "      <td>38.199187</td>\n",
       "      <td>846.841774</td>\n",
       "      <td>2.757689</td>\n",
       "      <td>3.697627</td>\n",
       "    </tr>\n",
       "    <tr>\n",
       "      <th>min</th>\n",
       "      <td>9.000000</td>\n",
       "      <td>3.000000</td>\n",
       "      <td>68.000000</td>\n",
       "      <td>46.000000</td>\n",
       "      <td>1613.000000</td>\n",
       "      <td>8.000000</td>\n",
       "      <td>70.000000</td>\n",
       "    </tr>\n",
       "    <tr>\n",
       "      <th>25%</th>\n",
       "      <td>17.500000</td>\n",
       "      <td>4.000000</td>\n",
       "      <td>104.250000</td>\n",
       "      <td>76.000000</td>\n",
       "      <td>2223.750000</td>\n",
       "      <td>13.825000</td>\n",
       "      <td>73.000000</td>\n",
       "    </tr>\n",
       "    <tr>\n",
       "      <th>50%</th>\n",
       "      <td>23.000000</td>\n",
       "      <td>4.000000</td>\n",
       "      <td>148.500000</td>\n",
       "      <td>95.000000</td>\n",
       "      <td>2803.500000</td>\n",
       "      <td>15.500000</td>\n",
       "      <td>76.000000</td>\n",
       "    </tr>\n",
       "    <tr>\n",
       "      <th>75%</th>\n",
       "      <td>29.000000</td>\n",
       "      <td>8.000000</td>\n",
       "      <td>262.000000</td>\n",
       "      <td>125.000000</td>\n",
       "      <td>3608.000000</td>\n",
       "      <td>17.175000</td>\n",
       "      <td>79.000000</td>\n",
       "    </tr>\n",
       "    <tr>\n",
       "      <th>max</th>\n",
       "      <td>46.600000</td>\n",
       "      <td>8.000000</td>\n",
       "      <td>455.000000</td>\n",
       "      <td>230.000000</td>\n",
       "      <td>5140.000000</td>\n",
       "      <td>24.800000</td>\n",
       "      <td>82.000000</td>\n",
       "    </tr>\n",
       "  </tbody>\n",
       "</table>\n",
       "</div>"
      ],
      "text/plain": [
       "              mpg   cylinders  displacement  horsepower       weight  \\\n",
       "count  398.000000  398.000000    398.000000  398.000000   398.000000   \n",
       "mean    23.514573    5.454774    193.425879  104.469388  2970.424623   \n",
       "std      7.815984    1.701004    104.269838   38.199187   846.841774   \n",
       "min      9.000000    3.000000     68.000000   46.000000  1613.000000   \n",
       "25%     17.500000    4.000000    104.250000   76.000000  2223.750000   \n",
       "50%     23.000000    4.000000    148.500000   95.000000  2803.500000   \n",
       "75%     29.000000    8.000000    262.000000  125.000000  3608.000000   \n",
       "max     46.600000    8.000000    455.000000  230.000000  5140.000000   \n",
       "\n",
       "       acceleration  model_year  \n",
       "count    398.000000  398.000000  \n",
       "mean      15.568090   76.010050  \n",
       "std        2.757689    3.697627  \n",
       "min        8.000000   70.000000  \n",
       "25%       13.825000   73.000000  \n",
       "50%       15.500000   76.000000  \n",
       "75%       17.175000   79.000000  \n",
       "max       24.800000   82.000000  "
      ]
     },
     "execution_count": 9,
     "metadata": {},
     "output_type": "execute_result"
    }
   ],
   "source": [
    "auto.describe()"
   ]
  },
  {
   "cell_type": "code",
   "execution_count": 10,
   "id": "d0104611-66fa-4e91-bf23-826c1d3b5881",
   "metadata": {},
   "outputs": [],
   "source": [
    "import seaborn as sns\n",
    "import matplotlib.pyplot as plt"
   ]
  },
  {
   "cell_type": "code",
   "execution_count": 11,
   "id": "49c4a6ac-ca7a-47df-a2e7-30ed5370336f",
   "metadata": {},
   "outputs": [
    {
     "data": {
      "text/plain": [
       "<Axes: xlabel='model_year', ylabel='Count'>"
      ]
     },
     "execution_count": 11,
     "metadata": {},
     "output_type": "execute_result"
    },
    {
     "data": {
      "image/png": "[encoded data removed]",
      "text/plain": [
       "<Figure size 640x480 with 1 Axes>"
      ]
     },
     "metadata": {},
     "output_type": "display_data"
    }
   ],
   "source": [
    "sns.histplot(data=auto['model_year'])"
   ]
  },
  {
   "cell_type": "code",
   "execution_count": 12,
   "id": "74cd0281-e94e-4c05-bdc5-a7a5fdf27853",
   "metadata": {},
   "outputs": [
    {
     "data": {
      "text/plain": [
       "<Axes: xlabel='cylinders', ylabel='Count'>"
      ]
     },
     "execution_count": 12,
     "metadata": {},
     "output_type": "execute_result"
    },
    {
     "data": {
      "image/png": "[encoded data removed]",
      "text/plain": [
       "<Figure size 640x480 with 1 Axes>"
      ]
     },
     "metadata": {},
     "output_type": "display_data"
    }
   ],
   "source": [
    "sns.histplot(data=auto['cylinders'])"
   ]
  },
  {
   "cell_type": "code",
   "execution_count": 13,
   "id": "eafb0176-a99f-40eb-b895-21c6125ed004",
   "metadata": {},
   "outputs": [
    {
     "data": {
      "text/plain": [
       "<Axes: xlabel='model_year'>"
      ]
     },
     "execution_count": 13,
     "metadata": {},
     "output_type": "execute_result"
    },
    {
     "data": {
      "image/png": "[encoded data removed]",
      "text/plain": [
       "<Figure size 640x480 with 1 Axes>"
      ]
     },
     "metadata": {},
     "output_type": "display_data"
    }
   ],
   "source": [
    "sns.boxplot(data=auto, x='model_year')"
   ]
  },
  {
   "cell_type": "code",
   "execution_count": 14,
   "id": "684bd579-8a80-4203-a6b0-fa4cc8a14f09",
   "metadata": {},
   "outputs": [
    {
     "data": {
      "text/plain": [
       "<Axes: xlabel='horsepower'>"
      ]
     },
     "execution_count": 14,
     "metadata": {},
     "output_type": "execute_result"
    },
    {
     "data": {
      "image/png": "[encoded data removed]",
      "text/plain": [
       "<Figure size 640x480 with 1 Axes>"
      ]
     },
     "metadata": {},
     "output_type": "display_data"
    }
   ],
   "source": [
    "sns.boxplot(data=auto, x='horsepower')"
   ]
  },
  {
   "cell_type": "code",
   "execution_count": 15,
   "id": "2cbac68a-43a1-47dd-8b7e-fa1a63a031c6",
   "metadata": {},
   "outputs": [
    {
     "data": {
      "image/png": "[encoded data removed]",
      "text/plain": [
       "<Figure size 1500x700 with 2 Axes>"
      ]
     },
     "metadata": {},
     "output_type": "display_data"
    }
   ],
   "source": [
    "corr_cols=['mpg','cylinders','displacement','horsepower','weight','acceleration','model_year']\n",
    "\n",
    "# increate the figure size\n",
    "plt.figure(figsize=(15, 7))\n",
    "\n",
    "# the actual heat map\n",
    "sns.heatmap(\n",
    "   auto[corr_cols].corr(), annot=True, vmin=-1, vmax=1, fmt=\".2f\", cmap=\"Spectral\"\n",
    ")\n",
    "\n",
    "# show the plot\n",
    "plt.show()"
   ]
  },
  {
   "cell_type": "markdown",
   "id": "29462ed4-42d8-46f8-b40c-a4405f1979fd",
   "metadata": {},
   "source": [
    "# Part 2"
   ]
  },
  {
   "cell_type": "code",
   "execution_count": 32,
   "id": "5c7b772a-912b-42e1-a3cb-42d247be12cc",
   "metadata": {},
   "outputs": [],
   "source": [
    "import sklearn\n",
    "import sklearn.linear_model\n",
    "from sklearn.model_selection import train_test_split\n",
    "X = auto.drop(['mpg'],axis=1)\n",
    "y = auto['mpg']\n",
    "X_train, X_test, y_train, y_test = train_test_split(X, y, test_size=0.5, random_state=1)"
   ]
  },
  {
   "cell_type": "code",
   "execution_count": 33,
   "id": "abf500f5-4abe-4879-8812-ba9d097d142b",
   "metadata": {},
   "outputs": [],
   "source": [
    "import sklearn.linear_model\n",
    "lr = sklearn.linear_model.LinearRegression()"
   ]
  },
  {
   "cell_type": "code",
   "execution_count": 34,
   "id": "e30604ca-9bea-48a6-ba3f-53597cfac891",
   "metadata": {},
   "outputs": [
    {
     "data": {
      "text/html": [
       "<style>#sk-container-id-3 {color: black;}#sk-container-id-3 pre{padding: 0;}#sk-container-id-3 div.sk-toggleable {background-color: white;}#sk-container-id-3 label.sk-toggleable__label {cursor: pointer;display: block;width: 100%;margin-bottom: 0;padding: 0.3em;box-sizing: border-box;text-align: center;}#sk-container-id-3 label.sk-toggleable__label-arrow:before {content: \"▸\";float: left;margin-right: 0.25em;color: #696969;}#sk-container-id-3 label.sk-toggleable__label-arrow:hover:before {color: black;}#sk-container-id-3 div.sk-estimator:hover label.sk-toggleable__label-arrow:before {color: black;}#sk-container-id-3 div.sk-toggleable__content {max-height: 0;max-width: 0;overflow: hidden;text-align: left;background-color: #f0f8ff;}#sk-container-id-3 div.sk-toggleable__content pre {margin: 0.2em;color: black;border-radius: 0.25em;background-color: #f0f8ff;}#sk-container-id-3 input.sk-toggleable__control:checked~div.sk-toggleable__content {max-height: 200px;max-width: 100%;overflow: auto;}#sk-container-id-3 input.sk-toggleable__control:checked~label.sk-toggleable__label-arrow:before {content: \"▾\";}#sk-container-id-3 div.sk-estimator input.sk-toggleable__control:checked~label.sk-toggleable__label {background-color: #d4ebff;}#sk-container-id-3 div.sk-label input.sk-toggleable__control:checked~label.sk-toggleable__label {background-color: #d4ebff;}#sk-container-id-3 input.sk-hidden--visually {border: 0;clip: rect(1px 1px 1px 1px);clip: rect(1px, 1px, 1px, 1px);height: 1px;margin: -1px;overflow: hidden;padding: 0;position: absolute;width: 1px;}#sk-container-id-3 div.sk-estimator {font-family: monospace;background-color: #f0f8ff;border: 1px dotted black;border-radius: 0.25em;box-sizing: border-box;margin-bottom: 0.5em;}#sk-container-id-3 div.sk-estimator:hover {background-color: #d4ebff;}#sk-container-id-3 div.sk-parallel-item::after {content: \"\";width: 100%;border-bottom: 1px solid gray;flex-grow: 1;}#sk-container-id-3 div.sk-label:hover label.sk-toggleable__label {background-color: #d4ebff;}#sk-container-id-3 div.sk-serial::before {content: \"\";position: absolute;border-left: 1px solid gray;box-sizing: border-box;top: 0;bottom: 0;left: 50%;z-index: 0;}#sk-container-id-3 div.sk-serial {display: flex;flex-direction: column;align-items: center;background-color: white;padding-right: 0.2em;padding-left: 0.2em;position: relative;}#sk-container-id-3 div.sk-item {position: relative;z-index: 1;}#sk-container-id-3 div.sk-parallel {display: flex;align-items: stretch;justify-content: center;background-color: white;position: relative;}#sk-container-id-3 div.sk-item::before, #sk-container-id-3 div.sk-parallel-item::before {content: \"\";position: absolute;border-left: 1px solid gray;box-sizing: border-box;top: 0;bottom: 0;left: 50%;z-index: -1;}#sk-container-id-3 div.sk-parallel-item {display: flex;flex-direction: column;z-index: 1;position: relative;background-color: white;}#sk-container-id-3 div.sk-parallel-item:first-child::after {align-self: flex-end;width: 50%;}#sk-container-id-3 div.sk-parallel-item:last-child::after {align-self: flex-start;width: 50%;}#sk-container-id-3 div.sk-parallel-item:only-child::after {width: 0;}#sk-container-id-3 div.sk-dashed-wrapped {border: 1px dashed gray;margin: 0 0.4em 0.5em 0.4em;box-sizing: border-box;padding-bottom: 0.4em;background-color: white;}#sk-container-id-3 div.sk-label label {font-family: monospace;font-weight: bold;display: inline-block;line-height: 1.2em;}#sk-container-id-3 div.sk-label-container {text-align: center;}#sk-container-id-3 div.sk-container {/* jupyter's `normalize.less` sets `[hidden] { display: none; }` but bootstrap.min.css set `[hidden] { display: none !important; }` so we also need the `!important` here to be able to override the default hidden behavior on the sphinx rendered scikit-learn.org. See: https://github.com/scikit-learn/scikit-learn/issues/21755 */display: inline-block !important;position: relative;}#sk-container-id-3 div.sk-text-repr-fallback {display: none;}</style><div id=\"sk-container-id-3\" class=\"sk-top-container\"><div class=\"sk-text-repr-fallback\"><pre>LinearRegression()</pre><b>In a Jupyter environment, please rerun this cell to show the HTML representation or trust the notebook. <br />On GitHub, the HTML representation is unable to render, please try loading this page with nbviewer.org.</b></div><div class=\"sk-container\" hidden><div class=\"sk-item\"><div class=\"sk-estimator sk-toggleable\"><input class=\"sk-toggleable__control sk-hidden--visually\" id=\"sk-estimator-id-3\" type=\"checkbox\" checked><label for=\"sk-estimator-id-3\" class=\"sk-toggleable__label sk-toggleable__label-arrow\">LinearRegression</label><div class=\"sk-toggleable__content\"><pre>LinearRegression()</pre></div></div></div></div></div>"
      ],
      "text/plain": [
       "LinearRegression()"
      ]
     },
     "execution_count": 34,
     "metadata": {},
     "output_type": "execute_result"
    }
   ],
   "source": [
    "lr.fit(X_train, y_train)"
   ]
  },
  {
   "cell_type": "code",
   "execution_count": 37,
   "id": "88d517ad-77fc-4bfc-ace2-de07101f474c",
   "metadata": {},
   "outputs": [
    {
     "data": {
      "text/plain": [
       "(199, 6)"
      ]
     },
     "execution_count": 37,
     "metadata": {},
     "output_type": "execute_result"
    }
   ],
   "source": [
    "X_train.shape"
   ]
  },
  {
   "cell_type": "code",
   "execution_count": 38,
   "id": "227c84b4-6dfe-4b15-815c-1588a72c8d4a",
   "metadata": {},
   "outputs": [
    {
     "data": {
      "text/plain": [
       "(199, 6)"
      ]
     },
     "execution_count": 38,
     "metadata": {},
     "output_type": "execute_result"
    }
   ],
   "source": [
    "X_test.shape"
   ]
  },
  {
   "cell_type": "code",
   "execution_count": 42,
   "id": "c3f492c4-c61e-4bb4-917f-be74dfb34398",
   "metadata": {},
   "outputs": [
    {
     "data": {
      "text/plain": [
       "array([22.01422907, 26.16440519, 19.47913022, 25.69506111, 24.11781695,\n",
       "       14.97018301, 28.8759791 , 33.59050794, 16.17764492, 10.64099794,\n",
       "       31.32832832, 16.46461713, 22.30391381, 26.55267662, 35.53318965,\n",
       "       22.72979646, 10.03422179, 20.94977277,  8.12685444, 32.53934703,\n",
       "       25.93816323, 31.12169793, 21.51438289, 25.26551038, 27.15289928,\n",
       "       28.76382246, 31.62410143, 31.91820042, 14.92989699, 30.93677554,\n",
       "       28.04377764, 10.17168796, 20.85287901, 27.84142782, 26.17467834,\n",
       "       13.55374101, 28.57057452,  8.47484204, 32.35465389, 25.28488635,\n",
       "       26.36818813, 25.93475639, 20.11578158, 32.36836086, 26.98225736,\n",
       "       22.26599727, 21.07066816, 11.34463731, 28.1416034 , 19.11860041,\n",
       "       24.5077392 , 27.93469994, 15.83680895, 11.57496434, 30.38895482,\n",
       "       25.26647439,  9.64927174, 12.47176664, 30.19634361, 34.67977093,\n",
       "       34.79361327, 34.7796814 , 17.47798648, 28.24663028, 19.20781522,\n",
       "       31.95474859, 27.5091301 , 26.62181292, 30.77948487, 12.32212156,\n",
       "       18.97065535, 24.56804359, 13.91356528, 27.70753982, 11.60666413,\n",
       "       27.43111996, 26.61369634, 15.90818865, 10.99013717, 23.85512779,\n",
       "       19.8816108 , 19.47329179, 34.71064539, 25.8549842 , 33.66192464,\n",
       "       17.17432603, 14.72016769, 23.61291818, 34.02179354, 31.78590583,\n",
       "       18.43839993, 22.69018387, 20.21864034, 25.5132246 , 30.22755021,\n",
       "       22.59527228, 32.35727871, 27.74663399, 23.59847058, 23.86842408,\n",
       "       20.94771413,  9.20550989, 15.3453315 , 33.62522401, 12.26946096,\n",
       "       21.72180238, 32.20732006, 23.26130151, 25.64492863, 17.03359132,\n",
       "       19.68487794, 30.21142502, 29.97738798, 17.41972824, 23.64443071,\n",
       "       33.12285332,  9.70226423, 24.45253858, 27.14303646, 31.36483217,\n",
       "       32.22568255, 26.2219269 , 21.99071452, 13.57288429, 33.92658018,\n",
       "       32.91459558, 11.14651249, 31.29939602, 30.24078393, 29.91298492,\n",
       "       29.64542511, 24.65489068, 10.19380399, 33.08661874, 22.77012551,\n",
       "       13.49170331, 30.19190059, 16.43285651, 32.82412548, 23.03722437,\n",
       "       16.84799986, 21.6228373 , 11.35475689, 26.88771159, 26.10056036,\n",
       "       26.28831589, 12.91898898, 20.44431374, 20.15652237, 21.53499286,\n",
       "       14.74095801,  9.6396863 , 14.71940087, 32.30203063, 29.99526892,\n",
       "       10.9904557 , 11.05439535, 25.94196634, 22.29649102, 18.22849841,\n",
       "       19.60955869, 35.02060951, 28.80154379, 28.66184529,  6.03040222,\n",
       "       16.97282433, 15.97536421, 28.42788009, 32.24125158, 20.80401212,\n",
       "       32.01501801, 33.82012057, 23.25077996, 21.66260801, 27.69612607,\n",
       "       32.8136325 , 21.25084655, 16.43484872, 25.41894383, 29.44123317,\n",
       "       32.31422397, 17.59935173, 29.03516561, 20.36114561, 27.24631138,\n",
       "       28.58423401, 11.96035426, 26.31653016,  4.91132484, 28.25073944,\n",
       "       30.80271991, 32.99536764, 26.35161347, 34.70241748, 23.35444921,\n",
       "       25.98011411, 33.60225606, 26.52452277,  9.84218963])"
      ]
     },
     "execution_count": 42,
     "metadata": {},
     "output_type": "execute_result"
    }
   ],
   "source": [
    "lr.predict(X_test.iloc[:199])"
   ]
  },
  {
   "cell_type": "code",
   "execution_count": 41,
   "id": "2eb1bcfe-a03d-4c34-879e-4a879c2ef7ae",
   "metadata": {},
   "outputs": [
    {
     "data": {
      "text/plain": [
       "array([16.54613607, 21.61593136, 34.40710933, 25.43804955, 30.77463401,\n",
       "        7.16571257, 24.68802339, 27.87707036, 19.89313175, 26.61589011,\n",
       "       28.91873143, 18.60110033, 34.5818189 , 22.0180898 , 31.24934784,\n",
       "       21.90914882, 31.45756679, 17.44568185, 32.34336201, 11.09962787,\n",
       "       12.59528463, 19.88273997, 24.2437417 , 20.92262325, 15.06110012,\n",
       "       34.83713016, 30.17942525, 15.86039801, 33.94381128, 29.11000355,\n",
       "       32.47414851, 19.93644054, 26.13259685, 25.39061086, 33.61351938,\n",
       "       17.71237683, 24.00825395, 24.52986536, 29.02591035, 31.18824633,\n",
       "       11.60554113, 22.4605893 , 21.54480293, 22.35976233, 10.22111757,\n",
       "       28.08627227, 18.98431266, 23.11738224, 10.07448564, 20.95150074,\n",
       "       32.64977005, 14.35347443, 26.38192254, 29.0715504 , 18.03288821,\n",
       "       30.61533628, 12.58405021, 13.71315794, 26.97250352, 31.13508254,\n",
       "       24.31609607, 15.43419034, 29.76845703, 27.21834528, 27.70347375,\n",
       "       32.5544109 , 20.83702766, 30.87507557, 20.38041718, 25.97409891,\n",
       "       26.83680504, 22.92613081, 25.91423257, 35.4143081 , 29.12713608,\n",
       "       21.30386601, 23.05356217, 31.61857384, 26.88256652, 31.62630557,\n",
       "        7.59823127, 31.24924304, 25.71791807, 16.38730978, 25.17559179,\n",
       "        9.82251721, 23.20962951, 12.93979636, 26.74751972, 22.59191   ,\n",
       "       20.73896714, 33.13903645, 15.01379199, 29.85586212, 15.37432648,\n",
       "       23.21701129, 29.26641688, 25.30025056, 28.20512643, 17.57141011,\n",
       "       29.90167063, 21.16079006, 28.57793249, 12.64382694, 20.13178334,\n",
       "       23.95215224, 21.79829882, 28.65001594, 25.30765445, 33.57592678,\n",
       "       15.31065435, 25.57522526, 21.60837274, 23.86213401, 24.20236104,\n",
       "       28.89822667, 28.3894666 , 26.7324391 , 31.21761385, 14.85002206,\n",
       "       11.15257016, 25.84530455, 34.63526329, 14.18813936, 31.00643955,\n",
       "       26.2589917 , 26.06283126, 30.57134772, 19.81051618, 13.48314595,\n",
       "       20.88404901, 25.81436811, 32.27861084, 22.11786728, 30.72947579,\n",
       "       22.72778188, 30.51214727, 17.06899354, 30.66677399,  8.13568627,\n",
       "       19.64160451, 26.68766403, 21.34155416,  8.04640522, 29.74470345,\n",
       "       12.15528239, 19.71081052, 22.38517589, 25.88099799, 27.00333622,\n",
       "       28.62545892,  9.29650571, 20.62268487,  7.71673951, 23.9947625 ,\n",
       "       15.33599138, 31.06124973, 24.78354647, 28.28730691, 24.88266072,\n",
       "       17.85009994, 13.51202017, 30.29636924, 30.89023831, 22.84130342,\n",
       "       22.13912788, 24.04310766, 13.93672236, 28.97672018, 23.28313102,\n",
       "       31.79675566, 29.70434884, 10.23491693, 27.16552173, 15.81887131,\n",
       "       31.80863461, 24.49718588, 17.99097958,  9.86171898, 25.44451056,\n",
       "       11.23749472, 21.63639927, 29.68441207, 24.82914426, 26.35030665,\n",
       "       22.9333165 , 25.74964668, 30.60445617, 24.68817682, 29.17729218,\n",
       "       30.87011444, 29.75792995, 16.68196293, 30.82287215, 29.42620093,\n",
       "       26.88147605, 13.62142273, 29.2950309 , 17.56190858])"
      ]
     },
     "execution_count": 41,
     "metadata": {},
     "output_type": "execute_result"
    }
   ],
   "source": [
    "lr.predict(X_train.iloc[:199])"
   ]
  },
  {
   "cell_type": "code",
   "execution_count": 43,
   "id": "2c837734-3a83-4f8d-936b-b27cfbd17a82",
   "metadata": {},
   "outputs": [
    {
     "data": {
      "text/plain": [
       "0.8153734105599775"
      ]
     },
     "execution_count": 43,
     "metadata": {},
     "output_type": "execute_result"
    }
   ],
   "source": [
    "lr.score(X_test, y_test)"
   ]
  },
  {
   "cell_type": "code",
   "execution_count": 44,
   "id": "1bb61c00-7097-4510-980e-a3922a7a08ff",
   "metadata": {},
   "outputs": [
    {
     "data": {
      "text/plain": [
       "0.7998424107647886"
      ]
     },
     "execution_count": 44,
     "metadata": {},
     "output_type": "execute_result"
    }
   ],
   "source": [
    "lr.score(X_train, y_train)"
   ]
  },
  {
   "cell_type": "code",
   "execution_count": null,
   "id": "2fa05d93-bcb2-4f05-b145-a28e4ebd72bd",
   "metadata": {},
   "outputs": [],
   "source": []
  }
 ],
 "metadata": {
  "kernelspec": {
   "display_name": "Python 3 (ipykernel)",
   "language": "python",
   "name": "python3"
  },
  "language_info": {
   "codemirror_mode": {
    "name": "ipython",
    "version": 3
   },
   "file_extension": ".py",
   "mimetype": "text/x-python",
   "name": "python",
   "nbconvert_exporter": "python",
   "pygments_lexer": "ipython3",
   "version": "3.11.1"
  }
 },
 "nbformat": 4,
 "nbformat_minor": 5
}
